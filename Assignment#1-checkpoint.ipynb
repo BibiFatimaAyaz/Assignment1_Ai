{
 "cells": [
  {
   "cell_type": "code",
   "execution_count": 3,
   "id": "52bca74c",
   "metadata": {},
   "outputs": [
    {
     "name": "stdout",
     "output_type": "stream",
     "text": [
      "My self Bibi Fatima Ayaz\n",
      "My Roll no is PIAIC1888188\n"
     ]
    }
   ],
   "source": [
    "#1. Assign a message to a variable, and then print that message.\n",
    "name = \"Bibi Fatima Ayaz\"\n",
    "roll_no = \"PIAIC1888188\"\n",
    "\n",
    "print(\"My self\" , name)\n",
    "print(\"My Roll no is\" , roll_no )"
   ]
  },
  {
   "cell_type": "code",
   "execution_count": 2,
   "id": "ba65d298",
   "metadata": {},
   "outputs": [
    {
     "name": "stdout",
     "output_type": "stream",
     "text": [
      "Malcolm X, \n",
      "\"The future belongs to those who prepare for it today.\"\n"
     ]
    }
   ],
   "source": [
    "#2. Find a quote from a famous person you admire. Print the quote and name of its author.\n",
    "\n",
    "quote ='\"The future belongs to those who prepare for it today.\"'\n",
    "print(\"Malcolm X, \\n\" + quote)"
   ]
  },
  {
   "cell_type": "code",
   "execution_count": null,
   "id": "a6a4d984",
   "metadata": {},
   "outputs": [],
   "source": [
    "#3. Write a python program which accepts the radius of a circle from the user and compute the area.\n",
    "\n",
    "radius = float(input(\"Enter a radius of a Circle: \\n\"))\n",
    "area_of_circle = 3.142*radius*radius\n",
    "print(\"Area of a Circle  =\", area_of_circle)"
   ]
  },
  {
   "cell_type": "code",
   "execution_count": null,
   "id": "57cc7428",
   "metadata": {},
   "outputs": [],
   "source": [
    "#4. Write a Python program to check if a number is positive, negative or zero.\n",
    "\n",
    "num = int(input(\"Enter a Number:\"))\n",
    "if num < 0:\n",
    "    print(\"Entered number is negative\")\n",
    "elif num > 0 :\n",
    "    print(\"Entered number is positive\")\n",
    "else:\n",
    "    print(\"Zero Entered\")"
   ]
  },
  {
   "cell_type": "code",
   "execution_count": null,
   "id": "b2c020cf",
   "metadata": {},
   "outputs": [],
   "source": [
    "#5. Write a Python program to test whether a passed letter is a vowel or not.\n",
    "\n",
    "char=input(\"Enter any Letter: \")\n",
    "vowels=[\"A\",\"a\",\"E\",\"e\",\"I\",\"i\",\"O\",\"o\",\"U\",\"u\"]\n",
    "if char in vowels:\n",
    "    print(\"Letter\", char, \"is a vowel\")\n",
    "else:\n",
    "    print(\"Letter\", char, \"is not a vowel\")"
   ]
  },
  {
   "cell_type": "code",
   "execution_count": null,
   "id": "45729ac7",
   "metadata": {},
   "outputs": [],
   "source": [
    "#6. Write a Python program to calculate body mass index.\n",
    "\n",
    "height=float(input(\"Enter yours Height in Centimenter\\n\"))\n",
    "weight=float(input(\"Enter yours Weight in kg\\n\"))\n",
    "body_mass_index=weight/(height/100)**2\n",
    "print(\"Your Body Mass Index is\",body_mass_index,\"kg/m^2\") "
   ]
  },
  {
   "cell_type": "code",
   "execution_count": 4,
   "id": "3cb6f7d6",
   "metadata": {},
   "outputs": [
    {
     "name": "stdout",
     "output_type": "stream",
     "text": [
      "Asma\n",
      "Aqsa\n",
      "Farheen\n",
      "Nisha\n",
      "Faryal\n",
      "Zahida\n"
     ]
    }
   ],
   "source": [
    "#7. Store the names of a few of your friends in a list called names.\n",
    "#Print each person’s name by accessing each element in the list, one at a time.\n",
    "\n",
    "names_of_friends=[\"Asma\",\"Aqsa\", \"Farheen\", \"Nisha\", \"Faryal\", \"Zahida\" ]\n",
    "print(names_of_friends[0])\n",
    "print(names_of_friends[1])\n",
    "print(names_of_friends[2])\n",
    "print(names_of_friends[3])\n",
    "print(names_of_friends[4])\n",
    "print(names_of_friends[5])"
   ]
  },
  {
   "cell_type": "code",
   "execution_count": null,
   "id": "3508ad3d",
   "metadata": {},
   "outputs": [],
   "source": [
    "#8. Start with the list you used in above Question , but instead of just printing each person’s name, print a message to \n",
    "#them.The text of each message should be the same, but each message should be personalized with the person’s name.\n",
    "\n",
    "names_of_friends=[\"Aqsa\", \"Farheen\", \"Fatima\", \"Faryal\", \"Zahida\" ]\n",
    "print(names_of_friends[0], \"You are my helpline\")\n",
    "print(names_of_friends[1], \"You are my helpline\")\n",
    "print(names_of_friends[2], \"You are my helpline\")\n",
    "print(names_of_friends[3], \"You are my helpline\")\n",
    "print(names_of_friends[4], \"You are my helpline\")"
   ]
  },
  {
   "cell_type": "code",
   "execution_count": 6,
   "id": "e26fd9e6",
   "metadata": {},
   "outputs": [
    {
     "name": "stdout",
     "output_type": "stream",
     "text": [
      "first three items in the food list are : ['Pasta', 'Manchurean', 'Pulao']\n",
      "middle three items in the food list are : ['Chicken Karahi', 'Nihari', 'Chinese']\n",
      "last three items in the food list are : ['Fish', 'Malai Boti', 'Zinger']\n"
     ]
    }
   ],
   "source": [
    "#9. Make a python program that conatains your nine favourite dishes in a list called foods.Print first three items, middle\n",
    "# three items and last three items from the list.\n",
    "\n",
    "Foods=[\"Pasta\",\"Manchurean\", \"Pulao\", \"Chicken Karahi\", \"Nihari\", \"Chinese\", \"Qorma\", \"Fish\", \"Malai Boti\", \"Zinger\"]\n",
    "print(\"first three items in the food list are :\", Foods[:3])\n",
    "print(\"middle three items in the food list are :\", Foods[3:6])\n",
    "print(\"last three items in the food list are :\", Foods[-3:])"
   ]
  },
  {
   "cell_type": "code",
   "execution_count": 7,
   "id": "3020f056",
   "metadata": {},
   "outputs": [
    {
     "name": "stdout",
     "output_type": "stream",
     "text": [
      "My Food \n",
      "\n",
      "My Favorite Foods are :  Pasta\n",
      "My Favorite Foods are :  Manchurean\n",
      "My Favorite Foods are :  Pulao\n",
      "My Favorite Foods are :  Chicken Karahi\n",
      "My Favorite Foods are :  Nihari\n",
      "My Favorite Foods are :  Chinese\n",
      "My Favorite Foods are :  Qorma\n",
      "My Favorite Foods are :  Fish\n",
      "My Favorite Foods are :  Malai Boti\n",
      "My Favorite Foods are :  Zinger\n",
      "My Favorite Foods are :  Chicken Shashlik\n",
      "\n",
      "My Friends Food\n",
      "\n",
      "My Friend's favorite foods are : Pasta\n",
      "My Friend's favorite foods are : Manchurean\n",
      "My Friend's favorite foods are : Pulao\n",
      "My Friend's favorite foods are : Chicken Karahi\n",
      "My Friend's favorite foods are : Nihari\n",
      "My Friend's favorite foods are : Chinese\n",
      "My Friend's favorite foods are : Qorma\n",
      "My Friend's favorite foods are : Fish\n",
      "My Friend's favorite foods are : Malai Boti\n",
      "My Friend's favorite foods are : Zinger\n",
      "My Friend's favorite foods are : biryani\n"
     ]
    }
   ],
   "source": [
    "#10. Start with your program from your last Question8. Make a copy of the list of foods, and call it friend_foods. \n",
    "# Then, do the following:\n",
    "# Add a new dish to the original list. Add a different dish to the list friend_foods.\n",
    "# Prove that you have two separate lists.\n",
    "# Print the message, My favorite pizzas are: and then use a for loop to print the first list.\n",
    "# Print the message, My friend’s favorite foods are:, and then use a for loop to print the second list.\n",
    "\n",
    "Foods=[\"Pasta\",\"Manchurean\", \"Pulao\", \"Chicken Karahi\", \"Nihari\", \"Chinese\", \"Qorma\", \"Fish\", \"Malai Boti\", \"Zinger\"]\n",
    "Friend_Foods=[\"Pasta\",\"Manchurean\", \"Pulao\", \"Chicken Karahi\", \"Nihari\", \"Chinese\", \"Qorma\", \"Fish\", \"Malai Boti\", \"Zinger\"]\n",
    "Foods.append(\"Chicken Shashlik\")\n",
    "Friend_Foods.append(\"biryani\")\n",
    "print(\"My Food \" + \"\\n\")\n",
    "for food in Foods:\n",
    "    print(\"My Favorite Foods are : \",food)\n",
    "print(\"\\n\" + \"My Friends Food\" + \"\\n\")\n",
    "for Friend_Food in Friend_Foods:\n",
    "    print(\"My Friend's favorite foods are :\", Friend_Food)"
   ]
  },
  {
   "cell_type": "code",
   "execution_count": null,
   "id": "4d5d64a7",
   "metadata": {},
   "outputs": [],
   "source": []
  }
 ],
 "metadata": {
  "kernelspec": {
   "display_name": "Python 3 (ipykernel)",
   "language": "python",
   "name": "python3"
  },
  "language_info": {
   "codemirror_mode": {
    "name": "ipython",
    "version": 3
   },
   "file_extension": ".py",
   "mimetype": "text/x-python",
   "name": "python",
   "nbconvert_exporter": "python",
   "pygments_lexer": "ipython3",
   "version": "3.9.12"
  }
 },
 "nbformat": 4,
 "nbformat_minor": 5
}
